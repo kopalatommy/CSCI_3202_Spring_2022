{
 "cells": [
  {
   "cell_type": "markdown",
   "metadata": {},
   "source": [
    "# CSCI 3202, Spring 2022: Final Coding Project\n",
    "\n",
    "---\n",
    "\n",
    "\n",
    "This is your final programming project for CSCI 3202. It is due on Canvas by **11:59 PM on Saturday April 30**.  Your solutions to theoretical questions should be done in Markdown/LateX directly below the associated question. Your solutions to computational questions should include any relevant Python code, as well as results and any written commentary.\n",
    "\n",
    "You have two options for completing your final project for this course. The first option is presented in this notebook and involves implementing a reinforcement learning algorithm and producing a five-minute video that explains your process of solving this problem. The second option is to design your own project that includes the algorithms we've discussed since the midterm - Bayes Nets, Hidden Markov Models, Markov Decision Processes, or Reinforcement Learning - or an algorithm related to one of these that we haven't discussed in class. Your project also needs to include some kind of analysis of how it performed on a specific problem. If you're interested in the design your own project option, you need to discuss your idea with one of the course instructors to get approval. If you do a project without getting approval, you will receive a 0 regardless of the quality of the project. You will also need to produce a short, five-minute video that explains your project.\n",
    "\n",
    "**The rules:**\n",
    "\n",
    "1. Choose EITHER the given problem to submit OR choose your own project topic. \n",
    "\n",
    "2. If you choose your own project topic, please adhere to the following guidelines:\n",
    "- The project needs to be approved by the course instructors.\n",
    "- The project needs to include one of the algorithms we've discussed since the midterm - Bayes Nets, HMMs, MDPs, or Reinforcement Learning - or an algorithm that we haven't discussed in class. \n",
    "- If you do your own project without prior approval, you will receive a 0 for this project.\n",
    "- Your project code, explanation, and results must all be contained in a Jupyter notebook. \n",
    "\n",
    "3. All work, code and analysis must be **your own**.\n",
    "4. You may use your course notes, posted lecture slides, textbook, in-class notebooks and homework solutions as resources.  You may also search online for answers to general knowledge questions, like the form of a probability distribution function, or how to perform a particular operation in Python. You may not use entire segments of code as solutions to any part of this project, e.g. if you find a Python implementation of policy iteration online, you can't use it.\n",
    "5. You may **not** post to message boards or other online resources asking for help.\n",
    "6. **You may not collaborate with classmates or anyone else.**\n",
    "7. This is meant to be like a coding portion of your final exam. So, we will be much less helpful than we typically am with homework. For example, we will not check answers, help debug your code, and so on.\n",
    "8. If you have a question, post it first as a **private** Piazza message. If we decide that it is appropriate for the entire class, then we will make it a public post (and anonymous).\n",
    "9. If something is left open-ended, it is probably because we intend for you to code it up however you want, and only care about the plots/analysis we see at the end. Feel free to ask clarifying questions though.\n",
    "\n",
    "Violation of these rules will result in an **F** and a trip to the Honor Code council.\n",
    "\n",
    "---\n",
    "**By writing your name below, you agree to abide by these rules:**\n",
    "\n",
    "**Your name:**\n",
    "\n",
    "---\n",
    "\n"
   ]
  },
  {
   "cell_type": "markdown",
   "metadata": {},
   "source": [
    "Chapter 22 in textbook\n",
    "Lecture schedule for reinforcement learnng. Sutton text book\n",
    "Q-Learning"
   ]
  },
  {
   "cell_type": "code",
   "execution_count": 1,
   "metadata": {},
   "outputs": [],
   "source": [
    "import pandas as pd\n",
    "import numpy as np\n",
    "import scipy.stats as stats\n",
    "import matplotlib.pyplot as plt\n",
    "from collections import defaultdict\n",
    "\n",
    "# added packages\n",
    "import heapq\n",
    "from matplotlib import colors"
   ]
  },
  {
   "cell_type": "markdown",
   "metadata": {},
   "source": [
    "\n",
    "\n",
    "---\n",
    "## [100 pts] Problem 1:  Reinforcement learning\n",
    "\n",
    "Consider a **cube** state space defined by $0 \\le x, y, z \\le L$. Suppose you are piloting/programming a drone to learn how to land on a platform at the center of the $z=0$ surface (the bottom). Some assumptions:\n",
    "* In this discrete world, if the drone is at $(x,y,z)$ it means that the box is centered at $(x,y,z)$. There are boxes (states) centered at $(x,y,z)$ for all $0 \\le x,y,z \\le L$. Each state is a 1 unit cube. So when $L=2$ (for example), there are cubes centered at each $x=0,1,2$, $y=0,1,2$ and so on, for a total state space size of $3^3 = 27$ states.\n",
    "* All of the states with $z=0$ are terminal states.\n",
    "* The state at the center of the bottom of the cubic state space is the landing pad. For example, when $L=4$, the landing pad is at $(x,y,z) = (2,2,0)$.\n",
    "* All terminal states ***except*** the landing pad have a reward of -1. The landing pad has a reward of +1.\n",
    "* All non-terminal states have a living reward of -0.01.\n",
    "* The drone takes up exactly 1 cubic unit, and begins in a random non-terminal state.\n",
    "* The available actions in non-terminal states include moving exactly 1 unit Up (+z), Down (-z), North (+y), South (-y), East (+x) or West (-x). In a terminal state, the training episode should end."
   ]
  },
  {
   "cell_type": "markdown",
   "metadata": {},
   "source": [
    "#### Part A\n",
    "Write a class `MDPLanding` to represent the Markov decision process for this drone. Include methods for:\n",
    "1. `actions(state)`, which should return a list of all actions available from the given state\n",
    "2. `reward(state)`, which should return the reward for the given state\n",
    "3. `result(state, action)`, which should return the resulting state of doing the given action in the given state\n",
    "\n",
    "and attributes for:\n",
    "1. `states`, a list of all the states in the state space, where each state is represented as an $(x,y,z)$ tuple\n",
    "2. `terminal_states`, a dictionary where keys are the terminal state tuples and the values are the rewards associated with those terminal states\n",
    "3. `default_reward`, a scalar for the reward associated with non-terminal states\n",
    "4. `all_actions`, a list of all possible actions (Up, Down, North, South, East, West)\n",
    "5. `discount`, the discount factor (use $\\gamma = 0.999$ for this entire problem)\n",
    "\n",
    "How you feed arguments/information into the class constructor is up to you.\n",
    "\n",
    "Note that actions are *deterministic* here.  The drone does not need to learn transition probabilities for outcomes of particular actions. What the drone does need to learn, however, is where the landing pad is, and how to get there from any initial state.\n",
    "\n",
    "Before moving on to Part B, we recommend that you test that your MDPLanding code is set up correctly. Write unit tests that display the actions for a given state, rewards, results, etc. This will help you identify errors in your implementation and save you a lot of debugging time later."
   ]
  },
  {
   "cell_type": "code",
   "execution_count": 36,
   "metadata": {},
   "outputs": [
    {
     "name": "stdout",
     "output_type": "stream",
     "text": [
      "[(0, -1, 0), (-1, 0, 0), (0, 0, -1)]\n",
      "3\n",
      "\n",
      "[(0, 1, 0), (0, -1, 0), (-1, 0, 0), (1, 0, 0), (0, 0, -1), (0, 0, 1)]\n",
      "6\n",
      "\n",
      "8\n",
      "27\n",
      "64\n",
      "125\n",
      "[(0, -1, 0), (1, 0, 0), (0, 0, -1)]\n"
     ]
    }
   ],
   "source": [
    "class MDPLanding:\n",
    "    def __init__(self, len):\n",
    "        self.states = [(x, y, z) for x in range(0, len) for y in range(0, len) for z in range(0, len)]\n",
    "        self.terminal_states = {}\n",
    "        # All states where z = 0\n",
    "        for state in self.states:\n",
    "            if state[2] == 0:\n",
    "                self.terminal_states[state] = -1\n",
    "        self.terminal_states[(int(len/2),int(len/2),0)] = 1\n",
    "        self.default_reward = -0.01\n",
    "        self.all_actions = [(0,1,0), (0,-1,0), (-1,0,0), (1,0,0), (0,0,-1), (0,0,1)]\n",
    "        self.discount = 0.999\n",
    "        self.len = len\n",
    "\n",
    "    def actions(self, state):\n",
    "        acts = []\n",
    "        for move in self.all_actions:\n",
    "            n = (state[0] + move[0], state[1] + move[1], state[2] + move[2])\n",
    "            if n[0] < 0 or n[0] >= self.len:\n",
    "                continue\n",
    "            elif n[1] < 0 or n[1] >= self.len:\n",
    "                continue\n",
    "            elif n[2] < 0 or n[2] >= self.len:\n",
    "                continue\n",
    "            else:\n",
    "                acts.append(move)\n",
    "        return acts\n",
    "\n",
    "    def reward(self, state):\n",
    "        if state in self.terminal_states:\n",
    "            return self.terminal_states[state]\n",
    "        else:\n",
    "            return self.default_reward\n",
    "\n",
    "    def result(self, state, action):\n",
    "        return (state[0] + action[0], state[1] + action[1], state[2] + action[2])\n",
    "\n",
    "\n",
    "test = MDPLanding(3)\n",
    "\n",
    "# for state in test.states:\n",
    "#     print(state)\n",
    "# print(len(test.states))\n",
    "actions = test.actions((2,2,2))\n",
    "print(actions)\n",
    "print(len(actions))\n",
    "print()\n",
    "actions = test.actions((1,1,1))\n",
    "print(actions)\n",
    "print(len(actions))\n",
    "print()\n",
    "test = MDPLanding(2)\n",
    "print(len(test.states))\n",
    "test = MDPLanding(3)\n",
    "print(len(test.states))\n",
    "test = MDPLanding(4)\n",
    "print(len(test.states))\n",
    "test = MDPLanding(5)\n",
    "print(len(test.states))\n",
    "\n",
    "test = MDPLanding(4)\n",
    "print(test.actions((0, 3, 3)))\n"
   ]
  },
  {
   "cell_type": "markdown",
   "metadata": {
    "collapsed": true
   },
   "source": [
    "#### Part B\n",
    "Write a function to implement **policy iteration** for this drone landing MDP. Create an MDP environment to represent the $L=4$ case (so 125 total states).\n",
    "\n",
    "Use your function to find an optimal policy for your new MDP environment. Check (by printing to screen) that the policy for the following states are what you expect, and **comment on the results**:\n",
    "1. $(2,2,1)$\n",
    "1. $(0,2,1)$\n",
    "1. $(2,0,1)$\n",
    "\n",
    "The policy for each of these states is the action that the agent should take in that state. "
   ]
  },
  {
   "cell_type": "code",
   "execution_count": 51,
   "metadata": {},
   "outputs": [
    {
     "name": "stdout",
     "output_type": "stream",
     "text": [
      "(2,2,1):  (0, 0, -1)\n",
      "(0,2,1):  (1, 0, 0)\n",
      "(2,0,1):  (0, 1, 0)\n"
     ]
    }
   ],
   "source": [
    "mdp = MDPLanding(4)\n",
    "\n",
    "def find_policies(mdp):\n",
    "    # Set the default policy to move down\n",
    "    policies = {state : (0, -1, 0) for state in mdp.states}\n",
    "    utilities = {state : 0 for state in mdp.states}\n",
    "\n",
    "    # Loop until the change is marginal\n",
    "    #for _ in range(0,100):\n",
    "    while True:\n",
    "        #print('Starting iter: ', count)\n",
    "        delta = 0.0\n",
    "        # For each state in the graph, find the best policy\n",
    "        for state in mdp.states:\n",
    "            # Get all possible moves for the given state\n",
    "            actions = mdp.actions(state)\n",
    "            # Need to track max utility\n",
    "            max = (-np.infty, (0, 0, 0))\n",
    "\n",
    "            if len(actions) == 0:\n",
    "                print('No actions?!: ', state)\n",
    "            if state in mdp.terminal_states:\n",
    "                #print('Terminal')\n",
    "\n",
    "                # util = mdp.reward(state)\n",
    "                # if util != utilities[state]:\n",
    "                #     diff = np.abs(util - utilities[state])\n",
    "                #     if diff > delta:\n",
    "                #         delta = diff\n",
    "\n",
    "                policies[state] = (0,0,0)\n",
    "                utilities[state] = mdp.reward(state)\n",
    "                continue\n",
    "\n",
    "            # For each action the state can undertake, determine the new utility of the move\n",
    "            # and find the best one\n",
    "            for i,act in enumerate(actions):\n",
    "                # Calculate the utility of the move\n",
    "                util = mdp.discount * mdp.reward(mdp.result(state, act)) + utilities[mdp.result(state, act)]\n",
    "                #util += utilities[state]\n",
    "\n",
    "                # If the utility is better than the previous best, track this one\n",
    "                if util > max[0]:\n",
    "                    max = (util, act)\n",
    "            # Determine how much the policy change altered the utility\n",
    "            diff = np.abs(utilities[state] - max[0])\n",
    "            # If this is the new highest change, update delta\n",
    "            if diff > delta:\n",
    "                delta = diff\n",
    "            # Update the policy and utility\n",
    "            utilities[state] = max[0]\n",
    "            policies[state] = max[1]\n",
    "        # If only a marginal change, exit\n",
    "        if delta < 0.001:\n",
    "            break\n",
    "        # else:\n",
    "        #     print(delta)\n",
    "\n",
    "    #print(policies)\n",
    "    return policies, utilities\n",
    "\n",
    "policies, utilities = find_policies(mdp)\n",
    "\n",
    "print('(2,2,1): ', policies[(2,2,1)])\n",
    "print('(0,2,1): ', policies[(0,2,1)])\n",
    "print('(2,0,1): ', policies[(2,0,1)])\n",
    "# print()\n",
    "# print('(2,2,1): ', utilities[(2,2,1)])\n",
    "# print('(0,2,1): ', utilities[(0,2,1)])\n",
    "# print('(2,0,1): ', utilities[(2,0,1)])\n",
    "# for pol in policies:\n",
    "#     print(pol, ' ', policies[pol], ' ', utilities[pol])"
   ]
  },
  {
   "cell_type": "markdown",
   "metadata": {},
   "source": [
    "- State: (2,2,1) Action: (0, 0, -1)\n",
    "> This action makes sense for this state because this state is directly above the landing spot. Therefore, the best action to take is to move down.\n",
    "- State: (0,2,1) Action: (1,0,0)\n",
    "> This action makes sense for this state because if the drone moves directly down, it hits an undesired terminal state. If it moves more central, the drone moves closer to the desired terminal state and therefore has more utility.\n",
    "3. State: (2,0,1) Action: (0, 1, 0)\n",
    "> Similar to number 2, the drone is right above a negative terminal state. Therefore, the action with the most utility is to move more central and get closer to the desired terminal state."
   ]
  },
  {
   "cell_type": "markdown",
   "metadata": {},
   "source": [
    "#### Part C\n",
    "\n",
    "Code up a **Q-learning** agent/algorithm to learn how to land the drone. You can do this however you like, as long as you use the MDP class structure defined above.  \n",
    "\n",
    "Your code should include some kind of a wrapper to run many trials to train the agent and learn the Q values.  You also do not need to have a separate function for the actual \"agent\"; your code can just be a \"for\" loop within which you are refining your estimate of the Q values.\n",
    "\n",
    "From each training trial, save the cumulative discounted reward (utility) over the course of that episode. That is, add up all of $\\gamma^t R(s_t)$ where the drone is in state $s_t$ during time step $t$, for the entire sequence. We refer to this as \"cumulative reward\" because we usually refer to \"utility\" as the utility *under an optimal policy*.\n",
    "\n",
    "Some guidelines:\n",
    "* The drone should initialize in a random non-terminal state for each new training episode.\n",
    "* The training episodes should be limited to 50 time steps, even if the drone has not yet landed. If the drone lands (in a terminal state), the training episode is over.\n",
    "* You may use whatever learning rate $\\alpha$ you decide is appropriate, and gives good results.\n",
    "* There are many forms of Q-learning. You can use whatever you would like, subject to the reliability targets in Part D below.\n",
    "* Your code should return:\n",
    "  * The learned Q values associated with each state-action pair.\n",
    "  * The cumulative reward for each training trial. \n",
    "  * Anything else that might be useful in the ensuing analysis."
   ]
  },
  {
   "cell_type": "code",
   "execution_count": null,
   "metadata": {},
   "outputs": [],
   "source": [
    "# Your code here.\n",
    "# https://www.simplilearn.com/tutorials/machine-learning-tutorial/what-is-q-learning\n",
    "# https://gibberblot.github.io/rl-notes/single-agent/function-approximation.html"
   ]
  },
  {
   "cell_type": "markdown",
   "metadata": {},
   "source": [
    "#### Part D\n",
    "\n",
    "Initialize the $L=10$ environment (so that the landing pad is at $(5,5,0)$). Run some number of training trials to train the drone.\n",
    "\n",
    "**How do I know if my drone is learned enough?**  If you take the mean cumulative reward across the last 5000 training trials, it should be around 0.80. This means at least about 10,000 (but probably more) training episodes will be necessary. It will take a few seconds on your computer, so start small to test your code.\n",
    "\n",
    "**Then:** Compute block means of cumulative reward from all of your training trials. Use blocks of 500 training trials. This means you need to create some kind of array-like structure such that its first element is the mean of the first 500 trials' cumulative rewards; its second element is the mean of the 501-1000th trials' cumulative rewards; and so on. Make a plot of the block mean rewards as the training progresses. It should increase from about -0.5 initially to somewhere around +0.8.\n",
    "\n",
    "**And:** Print to the screen the mean of the last 5000 trials' cumulative rewards, to verify that it is indeed about 0.80."
   ]
  },
  {
   "cell_type": "code",
   "execution_count": null,
   "metadata": {},
   "outputs": [],
   "source": [
    "# Your code here."
   ]
  },
  {
   "cell_type": "markdown",
   "metadata": {},
   "source": [
    "#### Part E\n",
    "\n",
    "**Question 1:** Why does the cumulative reward start off around -0.5 at the beginning of the training?\n",
    "\n",
    "**Question 2:** Why will it be difficult for us to train the drone to reliably obtain rewards much greater than about 0.8?"
   ]
  },
  {
   "cell_type": "markdown",
   "metadata": {},
   "source": [
    "#### Part F\n",
    "Choose three other reward structures, including the terminal rewards and the living rewards, and rerun your policy iteration and Q-learning algorithms with those reward structures. Write a paragraph or two describing the reward structures that you selected, what impact you expected the changes to have on your results, and what changes actually happened. If there was a difference in what you expected and what actually happened, reflect on why there was a difference. "
   ]
  },
  {
   "cell_type": "code",
   "execution_count": null,
   "metadata": {},
   "outputs": [],
   "source": []
  }
 ],
 "metadata": {
  "kernelspec": {
   "display_name": "Python 3",
   "language": "python",
   "name": "python3"
  },
  "language_info": {
   "codemirror_mode": {
    "name": "ipython",
    "version": 3
   },
   "file_extension": ".py",
   "mimetype": "text/x-python",
   "name": "python",
   "nbconvert_exporter": "python",
   "pygments_lexer": "ipython3",
   "version": "3.7.3"
  }
 },
 "nbformat": 4,
 "nbformat_minor": 2
}
